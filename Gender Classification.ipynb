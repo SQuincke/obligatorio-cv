{
 "cells": [
  {
   "cell_type": "markdown",
   "source": [
    "### Imports necesarios"
   ],
   "metadata": {
    "collapsed": false
   }
  },
  {
   "cell_type": "code",
   "execution_count": 1,
   "outputs": [],
   "source": [
    "# import keras.losses\n",
    "import numpy as np\n",
    "import os\n",
    "import config\n",
    "import pickle\n",
    "from matplotlib import pyplot as plt\n",
    "import tensorflow as tf\n",
    "from tensorflow.keras import Sequential, losses, optimizers, Model\n",
    "from tensorflow.keras.layers import Dense, Dropout, Activation, Flatten, Conv2D, MaxPooling2D, BatchNormalization, GlobalAveragePooling2D\n",
    "os.environ['TF_CPP_MIN_LOG_LEVEL'] = '0'\n",
    "# tf.config.set_visible_devices(tf.config.list_physical_devices('CPU')[0], 'CPU')\n",
    "# tf.debugging.set_log_device_placement(True)"
   ],
   "metadata": {
    "collapsed": false,
    "pycharm": {
     "name": "#%%\n"
    }
   }
  },
  {
   "cell_type": "code",
   "execution_count": 2,
   "outputs": [
    {
     "name": "stdout",
     "output_type": "stream",
     "text": [
      "Num GPUs Available:  1\n"
     ]
    }
   ],
   "source": [
    "print(\"Num GPUs Available: \", len(tf.config.list_physical_devices('GPU')))"
   ],
   "metadata": {
    "collapsed": false,
    "pycharm": {
     "name": "#%%\n"
    }
   }
  },
  {
   "cell_type": "markdown",
   "source": [
    "### Cargar datos de entrenamiento"
   ],
   "metadata": {
    "collapsed": false
   }
  },
  {
   "cell_type": "code",
   "execution_count": 3,
   "outputs": [
    {
     "data": {
      "text/plain": "      image_name  Male\n20803  20803.jpg  male\n20820  20820.jpg  male\n24617  24617.jpg  male\n29604  29604.jpg  male\n11602  11602.jpg  male",
      "text/html": "<div>\n<style scoped>\n    .dataframe tbody tr th:only-of-type {\n        vertical-align: middle;\n    }\n\n    .dataframe tbody tr th {\n        vertical-align: top;\n    }\n\n    .dataframe thead th {\n        text-align: right;\n    }\n</style>\n<table border=\"1\" class=\"dataframe\">\n  <thead>\n    <tr style=\"text-align: right;\">\n      <th></th>\n      <th>image_name</th>\n      <th>Male</th>\n    </tr>\n  </thead>\n  <tbody>\n    <tr>\n      <th>20803</th>\n      <td>20803.jpg</td>\n      <td>male</td>\n    </tr>\n    <tr>\n      <th>20820</th>\n      <td>20820.jpg</td>\n      <td>male</td>\n    </tr>\n    <tr>\n      <th>24617</th>\n      <td>24617.jpg</td>\n      <td>male</td>\n    </tr>\n    <tr>\n      <th>29604</th>\n      <td>29604.jpg</td>\n      <td>male</td>\n    </tr>\n    <tr>\n      <th>11602</th>\n      <td>11602.jpg</td>\n      <td>male</td>\n    </tr>\n  </tbody>\n</table>\n</div>"
     },
     "execution_count": 3,
     "metadata": {},
     "output_type": "execute_result"
    }
   ],
   "source": [
    "with open(config.TRAINING_FILE, \"rb\") as f:\n",
    "    df = pickle.load(f)\n",
    "\n",
    "df.head()"
   ],
   "metadata": {
    "collapsed": false,
    "pycharm": {
     "name": "#%%\n"
    }
   }
  },
  {
   "cell_type": "code",
   "execution_count": 4,
   "outputs": [],
   "source": [
    "im = plt.imread(f\"{config.TRAINING_IMGS}20803.jpg\")\n",
    "img_width, img_height = im.shape\n",
    "pixel_count = img_width * img_height\n",
    "\n",
    "img_names = df['image_name'].values.reshape(1, df['image_name'].values.size)[0]\n",
    "X_train = np.array([plt.imread(f\"{config.TRAINING_IMGS}{img_name}\") for img_name in img_names]) / 255\n",
    "Y_train = np.where(df[\"Male\"] == \"male\", 1, 0).T"
   ],
   "metadata": {
    "collapsed": false,
    "pycharm": {
     "name": "#%%\n"
    }
   }
  },
  {
   "cell_type": "code",
   "execution_count": 5,
   "outputs": [],
   "source": [
    "# model = Sequential()\n",
    "# model.add(Conv2D(32, 3, padding=\"valid\", activation=\"relu\",  input_shape=(img_width, img_height, 1)))\n",
    "# model.add(MaxPooling2D((2, 2)))\n",
    "# model.add(Conv2D(32, 3, activation=\"relu\"))\n",
    "# model.add(MaxPooling2D((2, 2)))\n",
    "# model.add(Flatten())\n",
    "# model.add(Dense(32, activation=\"relu\"))\n",
    "# model.add(Dense(2, activation=\"sigmoid\"))\n",
    "#\n",
    "# loss = losses.BinaryCrossentropy(from_logits=False)\n",
    "# optimizer = optimizers.SGD(learning_rate=0.01)\n",
    "# metrics = [\"accuracy\"]\n",
    "#\n",
    "# model.compile(optimizer=optimizer, loss=loss, metrics=metrics)\n",
    "#\n",
    "# model.summary()\n",
    "\n"
   ],
   "metadata": {
    "collapsed": false,
    "pycharm": {
     "name": "#%%\n"
    }
   }
  },
  {
   "cell_type": "code",
   "execution_count": 6,
   "outputs": [
    {
     "name": "stdout",
     "output_type": "stream",
     "text": [
      "model.summary()\n"
     ]
    }
   ],
   "source": [
    "print(\"model.summary()\")"
   ],
   "metadata": {
    "collapsed": false,
    "pycharm": {
     "name": "#%%\n"
    }
   }
  },
  {
   "cell_type": "code",
   "execution_count": 7,
   "outputs": [],
   "source": [
    "def init_params():\n",
    "    W1 = np.random.randn(2, pixel_count)\n",
    "    b1 = np.random.randn(2, 1)\n",
    "    W2 = np.random.randn(2, 2)\n",
    "    b2 = np.random.randn(2, 1)\n",
    "    return W1, b1, W2, b2\n",
    "\n",
    "def ReLu(Z):\n",
    "    return np.maximum(0, Z)\n",
    "\n",
    "def softmax(Z):\n",
    "    return np.exp(Z) / np.sum(np.exp(Z))\n",
    "\n",
    "def forward_prop(X, W1, b1, W2, b2):\n",
    "    Z1 = W1.dot(X) + b1\n",
    "    A1 = ReLu(Z1)\n",
    "    Z2 = W2.dot(A1) + b2\n",
    "    A2 = softmax(Z2)\n",
    "    return Z1, A1, Z2, A2\n",
    "\n",
    "def one_hot(Y):\n",
    "    return np.vstack((np.array(np.where(Y == 1, 1, 0)), np.array(np.where(Y == 0, 1, 0))))\n",
    "\n",
    "def deriv_ReLu(Z):\n",
    "    return Z > 0\n",
    "\n",
    "def back_prop(Z1, A1, A2, W2, X, Y):\n",
    "    Y_one_hot = one_hot(Y)\n",
    "    dZ2 = A2 - Y_one_hot\n",
    "    dW2 = (1 / pixel_count) * dZ2.dot(A1.T)\n",
    "    db2 = (1 / pixel_count) * np.sum(dZ2, axis=1).reshape(2, 1)\n",
    "    dZ1 = W2.T.dot(dZ2) * deriv_ReLu(Z1)\n",
    "    dW1 = (1 / pixel_count) * dZ1.dot(X.T)\n",
    "    db1 = (1 / pixel_count) * np.sum(dZ1, axis=1).reshape(2, 1)\n",
    "    return dW1, db1, dW2, db2\n",
    "\n",
    "def update_params(W1, b1, W2, b2, dW1, db1, dW2, db2, alpha):\n",
    "    W1 -= alpha * dW1\n",
    "    b1 -= alpha * db1\n",
    "    W2 -= alpha * dW2\n",
    "    b2 -= alpha * db2\n",
    "    return W1, b1, W2, b2\n",
    "\n",
    "def get_predictions(A2):\n",
    "    return np.argmax(A2, 0)\n",
    "\n",
    "def get_accuracy(predictions, Y):\n",
    "    return np.sum(predictions == Y) / Y.size\n",
    "\n",
    "def gradient_descent(X, Y, iterations, alpha):\n",
    "    W1, b1, W2, b2 = init_params()\n",
    "\n",
    "    for i in range(iterations):\n",
    "        Z1, A1, Z2, A2 = forward_prop(X, W1, b1, W2, b2)\n",
    "        dW1, db1, dW2, db2 = back_prop(Z1, A1, A2, W2, X, Y)\n",
    "        W1, b1, W2, b2 = update_params(W1, b1, W2, b2,  dW1, db1, dW2, db2, alpha)\n",
    "        if i % 100 == 0:\n",
    "            print(f\"Iteration: {i}\")\n",
    "            print(f\"Accuracy: {get_accuracy(get_predictions(A2), Y)}\")\n",
    "\n",
    "    print(\"Done\")\n",
    "    return W1, b1, W2, b2"
   ],
   "metadata": {
    "collapsed": false,
    "pycharm": {
     "name": "#%%\n"
    }
   }
  },
  {
   "cell_type": "code",
   "execution_count": 8,
   "outputs": [],
   "source": [
    "def conv_block(input, n_filters):\n",
    "    conv_maps = Conv2D(n_filters, kernel_size=(3, 3), activation=tf.nn.relu)(input)\n",
    "    return MaxPooling2D(pool_size=(2, 2))(conv_maps)"
   ],
   "metadata": {
    "collapsed": false,
    "pycharm": {
     "name": "#%%\n"
    }
   }
  },
  {
   "cell_type": "code",
   "execution_count": null,
   "outputs": [
    {
     "name": "stdout",
     "output_type": "stream",
     "text": [
      "n\n",
      "Model: \"sequential\"\n",
      "_________________________________________________________________\n",
      " Layer (type)                Output Shape              Param #   \n",
      "=================================================================\n",
      " conv2d (Conv2D)             (None, 254, 254, 32)      320       \n",
      "                                                                 \n",
      " batch_normalization (BatchN  (None, 254, 254, 32)     128       \n",
      " ormalization)                                                   \n",
      "                                                                 \n",
      " max_pooling2d (MaxPooling2D  (None, 127, 127, 32)     0         \n",
      " )                                                               \n",
      "                                                                 \n",
      " conv2d_1 (Conv2D)           (None, 125, 125, 32)      9248      \n",
      "                                                                 \n",
      " batch_normalization_1 (Batc  (None, 125, 125, 32)     128       \n",
      " hNormalization)                                                 \n",
      "                                                                 \n",
      " max_pooling2d_1 (MaxPooling  (None, 62, 62, 32)       0         \n",
      " 2D)                                                             \n",
      "                                                                 \n",
      " conv2d_2 (Conv2D)           (None, 60, 60, 64)        18496     \n",
      "                                                                 \n",
      " batch_normalization_2 (Batc  (None, 60, 60, 64)       256       \n",
      " hNormalization)                                                 \n",
      "                                                                 \n",
      " max_pooling2d_2 (MaxPooling  (None, 30, 30, 64)       0         \n",
      " 2D)                                                             \n",
      "                                                                 \n",
      " flatten (Flatten)           (None, 57600)             0         \n",
      "                                                                 \n",
      " dropout (Dropout)           (None, 57600)             0         \n",
      "                                                                 \n",
      " dense (Dense)               (None, 128)               7372928   \n",
      "                                                                 \n",
      " dense_1 (Dense)             (None, 2)                 258       \n",
      "                                                                 \n",
      "=================================================================\n",
      "Total params: 7,401,762\n",
      "Trainable params: 7,401,506\n",
      "Non-trainable params: 256\n",
      "_________________________________________________________________\n",
      "Epoch 1/10\n"
     ]
    }
   ],
   "source": [
    "model = Sequential()\n",
    "model.add(Conv2D(32, (3, 3), activation=tf.nn.relu,  input_shape=(img_width, img_height, 1)))\n",
    "model.add(BatchNormalization())\n",
    "model.add(MaxPooling2D(pool_size=(2, 2)))\n",
    "\n",
    "# model_input = tf.keras.Input(im.shape)\n",
    "# n_filters_list = [32, 32, 64]\n",
    "# dense_fully_connected_layers = [64, 32]\n",
    "#\n",
    "# conv_input = conv_output = model_input\n",
    "# for n_filters in n_filters_list:\n",
    "#     conv_output = conv_block(conv_input, n_filters)\n",
    "#     conv_input = conv_output\n",
    "#\n",
    "# conv_output_flat = GlobalAveragePooling2D()(conv_output)\n",
    "#\n",
    "# dense_layer_input = dense_layer_output = conv_output_flat\n",
    "# for dense_layer_size in dense_fully_connected_layers:\n",
    "#     dense_layer_output = Dense(dense_layer_size, activation=tf.nn.relu)(dense_layer_input)\n",
    "#     dense_layer_input = dense_layer_output\n",
    "#\n",
    "# output_layer = Dense(1, activation=tf.nn.sigmoid)(dense_layer_output)\n",
    "# model = Model(model_input, output_layer, name=\"classification_model\")\n",
    "\n",
    "\n",
    "\n",
    "#\n",
    "# conv_maps = Conv2D(32, 3, input_shape=(img_width, img_height, 1))\n",
    "# activation_maps = Activation(\"relu\")(conv_maps)\n",
    "# # pooled_maps = MaxPooling2D(pool_size=(2,2))(activation_maps)\n",
    "# #\n",
    "# # tf.keras.Input(im.shape)\n",
    "#\n",
    "model.add(Conv2D(32, (3, 3), activation=tf.nn.relu))\n",
    "model.add(BatchNormalization())\n",
    "model.add(MaxPooling2D(pool_size=(2, 2)))\n",
    "# #\n",
    "model.add(Conv2D(64, (3, 3), activation=tf.nn.relu))\n",
    "model.add(BatchNormalization())\n",
    "model.add(MaxPooling2D(pool_size=(2, 2)))\n",
    "model.add(Flatten())\n",
    "model.add(Dropout(.5))\n",
    "# #\n",
    "# model.add(Flatten(input_shape=(img_width, img_height)))\n",
    "model.add(Dense(128, activation=tf.nn.relu))\n",
    "model.add(Dense(2, activation=tf.nn.softmax))\n",
    "# # model.add()\n",
    "# # model = tf.keras.Sequential([\n",
    "# #     Flatten(input_shape=(img_width, img_height)),\n",
    "# #     Dense(128, activation=tf.nn.relu),\n",
    "# #     Dense(2, activation=tf.nn.softmax)\n",
    "# # ])\n",
    "#\n",
    "# loss = losses.CategoricalCrossentropy()\n",
    "optimizer = optimizers.SGD(learning_rate=.01)\n",
    "metrics = [\"accuracy\"]\n",
    "\n",
    "model.compile(optimizer=optimizer, loss=\"categorical_crossentropy\", metrics=metrics)\n",
    "\n",
    "Y_one_hot = one_hot(Y_train).T\n",
    "print(\"n\")\n",
    "model.summary()\n",
    "model.fit(X_train, Y_one_hot, verbose=1, batch_size=64, epochs=10)"
   ],
   "metadata": {
    "collapsed": false,
    "pycharm": {
     "name": "#%%\n",
     "is_executing": true
    }
   }
  },
  {
   "cell_type": "code",
   "execution_count": null,
   "outputs": [],
   "source": [
    "model.summary()"
   ],
   "metadata": {
    "collapsed": false,
    "pycharm": {
     "name": "#%%\n",
     "is_executing": true
    }
   }
  },
  {
   "cell_type": "code",
   "execution_count": null,
   "outputs": [],
   "source": [],
   "metadata": {
    "collapsed": false,
    "pycharm": {
     "name": "#%%\n",
     "is_executing": true
    }
   }
  }
 ],
 "metadata": {
  "kernelspec": {
   "name": "pycharm-f1a1df95",
   "language": "python",
   "display_name": "PyCharm (obligatorio-cv)"
  },
  "language_info": {
   "codemirror_mode": {
    "name": "ipython",
    "version": 2
   },
   "file_extension": ".py",
   "mimetype": "text/x-python",
   "name": "python",
   "nbconvert_exporter": "python",
   "pygments_lexer": "ipython2",
   "version": "2.7.6"
  }
 },
 "nbformat": 4,
 "nbformat_minor": 0
}